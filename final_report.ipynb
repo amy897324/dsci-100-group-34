{
 "cells": [
  {
   "cell_type": "markdown",
   "id": "02579b2e-2fdd-41a4-b491-9fc623a653ab",
   "metadata": {},
   "source": [
    "## Final Project Report: Exploring Simultaneous Player Prediction Using K-Nearest Neighbor Regression\n",
    "\n",
    "\n",
    "**Background information**\n",
    "\n",
    "\n",
    "\n",
    "\n",
    "**Goal:**\n",
    "\n",
    "The question we are trying to answer is: “given the time of day, the day of the week, and player experience, which time window is most likely to have the highest number of simultaneous players?\" This will be achieved using the KNN Regression algorithm to predict the number of  simultaneous players and identify peak demand period. \n",
    "\n",
    "\n",
    "**About the dataset:**\n",
    "\n",
    "Both datasets contain information about players’ game sessions and their personal profiles, respectively. \n",
    "The sessions.csv dataset consists of 1535 observations and 5 variables. The hashedEmail variable is a unique identifier for each player, represented as a hashed email address. It has repeats, indicating that some players have multiple game sessions. The start_time and end_time variables represent the start and end times of each game session, formatted as DD/MM/YYYY HH, while the original_end_time and original_start_time variables represent the same information in UNIX time format.\n",
    "On the other hand, the players.csv dataset has 196 observations and 9 variables. While the hashedEmail remains the same for each respective player, each value appears only once in this dataset, indicating no repeats. Each player’s experience level is given, such as amateur, beginner, pro, regular, and veteran is also given within this dataset. Additional personal information such as the player’s gender, age, name, subscription status, individual ID, and organization name is also mentioned. Unlike the sessions.csv, this dataset shows timestamps as played_hours, representing the total hours played by each player on PLAICraft.\n",
    "These two datasets provide us with sufficient information to predict the time slots that extract the largest amounts of simultaneous active players. \n",
    "\n"
   ]
  },
  {
   "cell_type": "markdown",
   "id": "1d185d44-d424-4120-9c92-d2c7d716b62c",
   "metadata": {},
   "source": [
    "## Methods & Results\n",
    "\n",
    "**Preprocessing and Exploratory Data Analysis**\n",
    "\n",
    "\n",
    "Importing libraries and Setting Seed :\n",
    "The first thing we will do is import all the neccesary libraries needed."
   ]
  },
  {
   "cell_type": "code",
   "execution_count": 5,
   "id": "9a4b9681-d183-4f63-af1a-fa1de1a7f153",
   "metadata": {},
   "outputs": [
    {
     "name": "stderr",
     "output_type": "stream",
     "text": [
      "── \u001b[1mAttaching core tidyverse packages\u001b[22m ──────────────────────── tidyverse 2.0.0 ──\n",
      "\u001b[32m✔\u001b[39m \u001b[34mdplyr    \u001b[39m 1.1.4     \u001b[32m✔\u001b[39m \u001b[34mreadr    \u001b[39m 2.1.5\n",
      "\u001b[32m✔\u001b[39m \u001b[34mforcats  \u001b[39m 1.0.0     \u001b[32m✔\u001b[39m \u001b[34mstringr  \u001b[39m 1.5.1\n",
      "\u001b[32m✔\u001b[39m \u001b[34mggplot2  \u001b[39m 3.5.1     \u001b[32m✔\u001b[39m \u001b[34mtibble   \u001b[39m 3.2.1\n",
      "\u001b[32m✔\u001b[39m \u001b[34mlubridate\u001b[39m 1.9.3     \u001b[32m✔\u001b[39m \u001b[34mtidyr    \u001b[39m 1.3.1\n",
      "\u001b[32m✔\u001b[39m \u001b[34mpurrr    \u001b[39m 1.0.2     \n",
      "── \u001b[1mConflicts\u001b[22m ────────────────────────────────────────── tidyverse_conflicts() ──\n",
      "\u001b[31m✖\u001b[39m \u001b[34mdplyr\u001b[39m::\u001b[32mfilter()\u001b[39m masks \u001b[34mstats\u001b[39m::filter()\n",
      "\u001b[31m✖\u001b[39m \u001b[34mdplyr\u001b[39m::\u001b[32mlag()\u001b[39m    masks \u001b[34mstats\u001b[39m::lag()\n",
      "\u001b[36mℹ\u001b[39m Use the conflicted package (\u001b[3m\u001b[34m<http://conflicted.r-lib.org/>\u001b[39m\u001b[23m) to force all conflicts to become errors\n",
      "── \u001b[1mAttaching packages\u001b[22m ────────────────────────────────────── tidymodels 1.1.1 ──\n",
      "\n",
      "\u001b[32m✔\u001b[39m \u001b[34mbroom       \u001b[39m 1.0.6     \u001b[32m✔\u001b[39m \u001b[34mrsample     \u001b[39m 1.2.1\n",
      "\u001b[32m✔\u001b[39m \u001b[34mdials       \u001b[39m 1.3.0     \u001b[32m✔\u001b[39m \u001b[34mtune        \u001b[39m 1.1.2\n",
      "\u001b[32m✔\u001b[39m \u001b[34minfer       \u001b[39m 1.0.7     \u001b[32m✔\u001b[39m \u001b[34mworkflows   \u001b[39m 1.1.4\n",
      "\u001b[32m✔\u001b[39m \u001b[34mmodeldata   \u001b[39m 1.4.0     \u001b[32m✔\u001b[39m \u001b[34mworkflowsets\u001b[39m 1.0.1\n",
      "\u001b[32m✔\u001b[39m \u001b[34mparsnip     \u001b[39m 1.2.1     \u001b[32m✔\u001b[39m \u001b[34myardstick   \u001b[39m 1.3.1\n",
      "\u001b[32m✔\u001b[39m \u001b[34mrecipes     \u001b[39m 1.1.0     \n",
      "\n",
      "── \u001b[1mConflicts\u001b[22m ───────────────────────────────────────── tidymodels_conflicts() ──\n",
      "\u001b[31m✖\u001b[39m \u001b[34mscales\u001b[39m::\u001b[32mdiscard()\u001b[39m masks \u001b[34mpurrr\u001b[39m::discard()\n",
      "\u001b[31m✖\u001b[39m \u001b[34mdplyr\u001b[39m::\u001b[32mfilter()\u001b[39m   masks \u001b[34mstats\u001b[39m::filter()\n",
      "\u001b[31m✖\u001b[39m \u001b[34mrecipes\u001b[39m::\u001b[32mfixed()\u001b[39m  masks \u001b[34mstringr\u001b[39m::fixed()\n",
      "\u001b[31m✖\u001b[39m \u001b[34mdplyr\u001b[39m::\u001b[32mlag()\u001b[39m      masks \u001b[34mstats\u001b[39m::lag()\n",
      "\u001b[31m✖\u001b[39m \u001b[34myardstick\u001b[39m::\u001b[32mspec()\u001b[39m masks \u001b[34mreadr\u001b[39m::spec()\n",
      "\u001b[31m✖\u001b[39m \u001b[34mrecipes\u001b[39m::\u001b[32mstep()\u001b[39m   masks \u001b[34mstats\u001b[39m::step()\n",
      "\u001b[34m•\u001b[39m Learn how to get started at \u001b[32mhttps://www.tidymodels.org/start/\u001b[39m\n",
      "\n"
     ]
    }
   ],
   "source": [
    "library(tidyverse)\n",
    "library(repr)\n",
    "library(tidymodels)\n",
    "options(repr.matrix.max.rows = 6)\n",
    "# used lubridate in order to separate datetime data into useful form\n",
    "library(lubridate)"
   ]
  },
  {
   "cell_type": "markdown",
   "id": "ad9cc26e-3907-4c0c-8acc-a48739066feb",
   "metadata": {},
   "source": [
    "## Importing Dataset\n",
    "\n",
    "Here we load the data and do a little bit of wrangling to make it tidy "
   ]
  },
  {
   "cell_type": "code",
   "execution_count": 2,
   "id": "edecac72-ff68-450e-8f94-78e3af53b779",
   "metadata": {},
   "outputs": [
    {
     "name": "stderr",
     "output_type": "stream",
     "text": [
      "\u001b[1mRows: \u001b[22m\u001b[34m1535\u001b[39m \u001b[1mColumns: \u001b[22m\u001b[34m5\u001b[39m\n",
      "\u001b[36m──\u001b[39m \u001b[1mColumn specification\u001b[22m \u001b[36m────────────────────────────────────────────────────────\u001b[39m\n",
      "\u001b[1mDelimiter:\u001b[22m \",\"\n",
      "\u001b[31mchr\u001b[39m (3): hashedEmail, start_time, end_time\n",
      "\u001b[32mdbl\u001b[39m (2): original_start_time, original_end_time\n",
      "\n",
      "\u001b[36mℹ\u001b[39m Use `spec()` to retrieve the full column specification for this data.\n",
      "\u001b[36mℹ\u001b[39m Specify the column types or set `show_col_types = FALSE` to quiet this message.\n",
      "\u001b[1mRows: \u001b[22m\u001b[34m196\u001b[39m \u001b[1mColumns: \u001b[22m\u001b[34m9\u001b[39m\n",
      "\u001b[36m──\u001b[39m \u001b[1mColumn specification\u001b[22m \u001b[36m────────────────────────────────────────────────────────\u001b[39m\n",
      "\u001b[1mDelimiter:\u001b[22m \",\"\n",
      "\u001b[31mchr\u001b[39m (4): experience, hashedEmail, name, gender\n",
      "\u001b[32mdbl\u001b[39m (2): played_hours, age\n",
      "\u001b[33mlgl\u001b[39m (3): subscribe, individualId, organizationName\n",
      "\n",
      "\u001b[36mℹ\u001b[39m Use `spec()` to retrieve the full column specification for this data.\n",
      "\u001b[36mℹ\u001b[39m Specify the column types or set `show_col_types = FALSE` to quiet this message.\n"
     ]
    },
    {
     "data": {
      "text/html": [
       "<table class=\"dataframe\">\n",
       "<caption>A tibble: 94 × 3</caption>\n",
       "<thead>\n",
       "\t<tr><th scope=col>hour_of_day</th><th scope=col>experience</th><th scope=col>avg_players</th></tr>\n",
       "\t<tr><th scope=col>&lt;int&gt;</th><th scope=col>&lt;chr&gt;</th><th scope=col>&lt;dbl&gt;</th></tr>\n",
       "</thead>\n",
       "<tbody>\n",
       "\t<tr><td>0</td><td>Amateur </td><td>7.857143</td></tr>\n",
       "\t<tr><td>0</td><td>Beginner</td><td>1.666667</td></tr>\n",
       "\t<tr><td>0</td><td>Pro     </td><td>1.500000</td></tr>\n",
       "\t<tr><td>⋮</td><td>⋮</td><td>⋮</td></tr>\n",
       "\t<tr><td>23</td><td>Pro    </td><td>1.333333</td></tr>\n",
       "\t<tr><td>23</td><td>Regular</td><td>5.571429</td></tr>\n",
       "\t<tr><td>23</td><td>Veteran</td><td>1.500000</td></tr>\n",
       "</tbody>\n",
       "</table>\n"
      ],
      "text/latex": [
       "A tibble: 94 × 3\n",
       "\\begin{tabular}{lll}\n",
       " hour\\_of\\_day & experience & avg\\_players\\\\\n",
       " <int> & <chr> & <dbl>\\\\\n",
       "\\hline\n",
       "\t 0 & Amateur  & 7.857143\\\\\n",
       "\t 0 & Beginner & 1.666667\\\\\n",
       "\t 0 & Pro      & 1.500000\\\\\n",
       "\t ⋮ & ⋮ & ⋮\\\\\n",
       "\t 23 & Pro     & 1.333333\\\\\n",
       "\t 23 & Regular & 5.571429\\\\\n",
       "\t 23 & Veteran & 1.500000\\\\\n",
       "\\end{tabular}\n"
      ],
      "text/markdown": [
       "\n",
       "A tibble: 94 × 3\n",
       "\n",
       "| hour_of_day &lt;int&gt; | experience &lt;chr&gt; | avg_players &lt;dbl&gt; |\n",
       "|---|---|---|\n",
       "| 0 | Amateur  | 7.857143 |\n",
       "| 0 | Beginner | 1.666667 |\n",
       "| 0 | Pro      | 1.500000 |\n",
       "| ⋮ | ⋮ | ⋮ |\n",
       "| 23 | Pro     | 1.333333 |\n",
       "| 23 | Regular | 5.571429 |\n",
       "| 23 | Veteran | 1.500000 |\n",
       "\n"
      ],
      "text/plain": [
       "   hour_of_day experience avg_players\n",
       "1  0           Amateur    7.857143   \n",
       "2  0           Beginner   1.666667   \n",
       "3  0           Pro        1.500000   \n",
       "⋮  ⋮           ⋮          ⋮          \n",
       "92 23          Pro        1.333333   \n",
       "93 23          Regular    5.571429   \n",
       "94 23          Veteran    1.500000   "
      ]
     },
     "metadata": {},
     "output_type": "display_data"
    }
   ],
   "source": [
    "sessions_data <- read_csv(\"sessions.csv\")\n",
    "players_data <- read_csv(\"players.csv\")\n",
    "\n",
    "sessions_dt <- sessions_data |>\n",
    "    mutate(date_start_time = dmy_hm(start_time),\n",
    "         day_of_week = wday(date_start_time, label = TRUE),\n",
    "         hour_of_day = hour(date_start_time)) |>\n",
    "    mutate(date_end_time = dmy_hm(end_time)) |>\n",
    "    select(hashedEmail, day_of_week, hour_of_day)\n",
    "players_select <- players_data |>\n",
    "    select(experience, hashedEmail, played_hours)\n",
    "\n",
    "sessions_players_merge <- left_join(sessions_dt, players_select, by = \"hashedEmail\")\n",
    "\n",
    "hourly_data <- sessions_players_merge |>\n",
    "    group_by(day_of_week, hour_of_day, experience) |>\n",
    "    summarize(simultaneous_players = n(), .groups = \"drop\")\n",
    "average_day_data <- hourly_data |>\n",
    "    group_by(hour_of_day, experience) |>\n",
    "    summarize(avg_players = mean(simultaneous_players), .groups = \"drop\")\n",
    "average_day_data\n"
   ]
  },
  {
   "cell_type": "markdown",
   "id": "6b6ff7b1-2562-4d47-ba96-ea4a480dea91",
   "metadata": {},
   "source": [
    "*figure 1*"
   ]
  },
  {
   "cell_type": "markdown",
   "id": "ac68884a-0bf5-46fc-93b2-01e3690f9104",
   "metadata": {},
   "source": [
    "## Splitting Data Into Training and Testing Sets\n",
    "\n",
    "We will split our data into training and testing sets before working on the model or performing any exploratory data analysis. Since we are trying to predict the average number of players, the avg_player variable will be stratified.\n",
    "\n",
    "Since this is a random split, it is important to set a seed for reproducibility. For this, we have chosen seed 1111"
   ]
  },
  {
   "cell_type": "code",
   "execution_count": 3,
   "id": "68adabd4-ac8b-43cc-8664-07bc6c793424",
   "metadata": {},
   "outputs": [],
   "source": [
    "set.seed(1111)\n",
    "plaicraft_split <- initial_split(average_day_data, prop = 8/10, strata = avg_players)\n",
    "plaicraft_training <- training(plaicraft_split)\n",
    "plaicraft_testing <- testing(plaicraft_split)\n"
   ]
  },
  {
   "cell_type": "markdown",
   "id": "577c8c6a-a3e7-4d34-ac4b-aaa1a997e9c2",
   "metadata": {},
   "source": [
    "## Performing the Data Analysis\n",
    "### Finding the Best K-value\n",
    "To find the best k-value (neighbors) we will need to use 5-fold cross-validation on the training data set to select the optimal *k* for our classification. \n",
    "This can be achived using the following tasks:\n",
    "- Create model specification tuning on the number of neighbours\n",
    "- Create a recipe that uses `hour_of_day` as predictors. Here we also steps for scaling and centering the data.\n",
    "- Perform 10-fold cross validation using a workflow\n",
    "- Collect the metrics from the results of the workflow analysis\n",
    "- In the dataset, filter out the metric rmse and find the k value using the slice_min() function\n",
    "\n"
   ]
  },
  {
   "cell_type": "code",
   "execution_count": 4,
   "id": "2a6d9f76-28b0-463b-b566-0ff05d34c3ae",
   "metadata": {},
   "outputs": [
    {
     "name": "stderr",
     "output_type": "stream",
     "text": [
      "Warning message:\n",
      "“The number of observations in each quantile is below the recommended threshold of 20.\n",
      "\u001b[36m•\u001b[39m Stratification will use 3 breaks instead.”\n"
     ]
    },
    {
     "data": {
      "text/plain": [
       "══ Workflow ════════════════════════════════════════════════════════════════════\n",
       "\u001b[3mPreprocessor:\u001b[23m Recipe\n",
       "\u001b[3mModel:\u001b[23m nearest_neighbor()\n",
       "\n",
       "── Preprocessor ────────────────────────────────────────────────────────────────\n",
       "2 Recipe Steps\n",
       "\n",
       "• step_scale()\n",
       "• step_center()\n",
       "\n",
       "── Model ───────────────────────────────────────────────────────────────────────\n",
       "K-Nearest Neighbor Model Specification (regression)\n",
       "\n",
       "Main Arguments:\n",
       "  neighbors = tune()\n",
       "  weight_func = rectangular\n",
       "\n",
       "Computational engine: kknn \n"
      ]
     },
     "metadata": {},
     "output_type": "display_data"
    }
   ],
   "source": [
    "set.seed(1111)\n",
    "plaicraft_spec <- nearest_neighbor(weight_func = \"rectangular\", neighbors = tune()) |> \n",
    "      set_engine(\"kknn\") |>\n",
    "      set_mode(\"regression\") \n",
    "\n",
    "\n",
    "plaicraft_recipe <- recipe(avg_players ~ hour_of_day, data = plaicraft_training) |>\n",
    "      step_scale(all_predictors()) |>\n",
    "      step_center(all_predictors())\n",
    "\n",
    "plaicraft_vfold <- vfold_cv(plaicraft_training, v = 10, strata = avg_players)\n",
    "\n",
    "plaicraft_workflow <- workflow() |>\n",
    "    add_recipe(plaicraft_recipe) |>\n",
    "    add_model(plaicraft_spec)\n",
    "\n",
    "plaicraft_workflow\n",
    "\n"
   ]
  },
  {
   "cell_type": "code",
   "execution_count": 3,
   "id": "71bc7404-0242-4ce4-8978-31a7bc9f559c",
   "metadata": {},
   "outputs": [
    {
     "ename": "ERROR",
     "evalue": "Error in tibble(neighbors = seq(from = 1, to = 10, by = 2)): could not find function \"tibble\"\n",
     "output_type": "error",
     "traceback": [
      "Error in tibble(neighbors = seq(from = 1, to = 10, by = 2)): could not find function \"tibble\"\nTraceback:\n"
     ]
    }
   ],
   "source": [
    "set.seed(1234)\n",
    "gridvals <- tibble(neighbors = seq(from = 1, to = 10, by = 2))\n",
    "plaicraft_results <- workflow() |>\n",
    "    add_recipe(plaicraft_recipe) |>\n",
    "    add_model(plaicraft_spec) |>\n",
    "    tune_grid(resamples = plaicraft_vfold, grid = gridvals) |>\n",
    "    collect_metrics()\n",
    "plaicraft_results\n",
    "\n",
    "plaicraft_min <- plaicraft_results |>\n",
    "   filter(.metric == \"rmse\") |>\n",
    "   slice_min(mean, n = 1)\n",
    "plaicraft_min"
   ]
  },
  {
   "cell_type": "markdown",
   "id": "8e4e6c26-d9a3-4476-a936-921bc8f9acac",
   "metadata": {},
   "source": [
    "*figure 2 and 3*"
   ]
  },
  {
   "cell_type": "markdown",
   "id": "ebe4569d-5abd-4cf4-94fd-534d767695b3",
   "metadata": {},
   "source": [
    "**Results:** \n",
    "\n",
    "From Figure 3, we can conclude that the K value with the least RMSE is **9**, meaning it provides the most accurate predictions. We will now use this K value to continue with our KNN regression model"
   ]
  },
  {
   "cell_type": "markdown",
   "id": "2de54e74-7729-4e55-b1cb-f202e70f939f",
   "metadata": {},
   "source": [
    "## Building the Model"
   ]
  },
  {
   "cell_type": "code",
   "execution_count": null,
   "id": "9dfde01d-6286-4cbf-98e8-2600286c14ed",
   "metadata": {},
   "outputs": [],
   "source": [
    "set.seed(4444)\n",
    "k_min <- plaicraft_min |>\n",
    "         pull(neighbors)\n",
    "\n",
    "plaicraft_best_spec <- nearest_neighbor(weight_func = \"rectangular\", neighbors = k_min) |>\n",
    "         set_engine(\"kknn\") |>\n",
    "         set_mode(\"regression\")\n",
    "\n",
    "plaicraft_best_fit <- workflow() |>\n",
    "         add_recipe(plaicraft_recipe) |>\n",
    "         add_model(plaicraft_best_spec) |>\n",
    "         fit(data = plaicraft_training)\n",
    "\n",
    "plaicraft_summary <- plaicraft_best_fit |>\n",
    "          predict(plaicraft_testing) |>\n",
    "          bind_cols(plaicraft_testing) |>\n",
    "          metrics(truth = avg_players, estimate = .pred)\n",
    "\n",
    "\n",
    "plaicraft_summary"
   ]
  },
  {
   "cell_type": "markdown",
   "id": "49ea4fa8-61d5-4142-b6f7-d6a139318bdf",
   "metadata": {},
   "source": [
    "*figure 4*"
   ]
  },
  {
   "cell_type": "markdown",
   "id": "9686ad64-642b-4daa-b21d-d59e2a1b5d4c",
   "metadata": {},
   "source": [
    "Figure 4 shows the results of three evaluation metrics for this model\n",
    "\n",
    "We will use the trained model (plaicraft_best_fit) to generate predictions based on the training data (plaicraft_training) and combine these predictions with the original data. The results will be visualized in a scatter plot, showing the actual average number of players against the hour of the day, with the model’s predicted values overlaid as a black line. The points will be color-coded based on the experience level.\n"
   ]
  },
  {
   "cell_type": "markdown",
   "id": "70f65294-3a7d-439d-8aef-2887a05a834f",
   "metadata": {},
   "source": [
    "## Visualizing the Results"
   ]
  },
  {
   "cell_type": "code",
   "execution_count": null,
   "id": "5a81e678-ec28-4f8e-8eb4-c3003757d37c",
   "metadata": {},
   "outputs": [],
   "source": [
    "set.seed(1000)\n",
    "options(repr.plot.width = 7, repr.plot.height = 7)\n",
    "\n",
    "        \n",
    "plaicraft_preds <- plaicraft_best_fit |>\n",
    "    predict(plaicraft_training) |>\n",
    "    bind_cols(plaicraft_training)\n",
    "plaicraft_preds\n",
    "\n",
    "plaicraft_plot <- plaicraft_preds |>\n",
    "    ggplot(aes(x = hour_of_day, y = avg_players, colour = experience)) +\n",
    "    geom_point(alpha = 0.5) +\n",
    "    xlab(\"Hour of Day\") +\n",
    "    ylab(\"Average Number of Players\") +\n",
    "    geom_line(aes(x = hour_of_day, y = .pred), color = \"black\") +\n",
    "    labs(color = \"Experience\") +\n",
    "    ggtitle(paste0(\"K = \", k_min))\n",
    "\n",
    "\n",
    "plaicraft_plot"
   ]
  },
  {
   "cell_type": "markdown",
   "id": "ebb88782-800f-4eb1-82c2-bb349dab41bf",
   "metadata": {},
   "source": [
    "*figure 5 and 6*"
   ]
  },
  {
   "cell_type": "markdown",
   "id": "1c9dcc05-b5e5-424b-b528-90dd8ffe1a16",
   "metadata": {},
   "source": [
    "From Figure 6, we can conclude that the busiest hour of the day is between 0:00 and 5:00, specifically at 3:00 AM."
   ]
  },
  {
   "cell_type": "markdown",
   "id": "da67f106-9eed-4e35-b664-b75b13a5c9e5",
   "metadata": {},
   "source": [
    "## Effectiveness of the model \n",
    "To better demonstrate the effectiveness of the model, we will visualize both the training and testing results. This will allow us to compare how well the model performs on data it has seen (training data) versus data it has not seen (testing data), helping to assess its accuracy and ability to generalize to new, unseen data."
   ]
  },
  {
   "cell_type": "code",
   "execution_count": 4,
   "id": "9879b861-5794-4887-b189-4032cb27570c",
   "metadata": {},
   "outputs": [
    {
     "ename": "ERROR",
     "evalue": "Error in bind_cols(predict(plaicraft_best_fit, plaicraft_training), plaicraft_training): could not find function \"bind_cols\"\n",
     "output_type": "error",
     "traceback": [
      "Error in bind_cols(predict(plaicraft_best_fit, plaicraft_training), plaicraft_training): could not find function \"bind_cols\"\nTraceback:\n"
     ]
    }
   ],
   "source": [
    "set.seed(1000)\n",
    "options(repr.plot.width = 7, repr.plot.height = 7)\n",
    "\n",
    "plaicraft_pred_training <- plaicraft_best_fit |>\n",
    "    predict(plaicraft_training) |>\n",
    "    bind_cols(plaicraft_training)\n",
    "\n",
    "\n",
    "plaicraft_pred_testing <- plaicraft_best_fit |>\n",
    "    predict(plaicraft_testing) |>\n",
    "    bind_cols(plaicraft_testing)\n",
    "\n",
    "\n",
    "plaicraft_pred_training_plot <- plaicraft_pred_training |>\n",
    "    ggplot(aes(x = hour_of_day, y = avg_players, colour = experience)) +\n",
    "    geom_point(alpha = 0.5) +\n",
    "    xlab(\"Hour of Day\") +\n",
    "    ylab(\"Average Number of Players\") +\n",
    "    geom_line(aes(x = hour_of_day, y = .pred), color = \"black\") +\n",
    "    labs(color = \"Experience\") +\n",
    "    ggtitle(paste0(\"K = \", k_min))\n",
    "\n",
    "plaicraft_pred_testing_plot <- plaicraft_pred_testing |>\n",
    "    ggplot(aes(x = hour_of_day, y = avg_players, colour = experience)) +\n",
    "    geom_point(alpha = 0.5) +\n",
    "    xlab(\"Hour of Day\") +\n",
    "    ylab(\"Average Number of Players\") +\n",
    "    geom_line(aes(x = hour_of_day, y = .pred), color = \"black\") +\n",
    "    labs(color = \"Experience\") +\n",
    "    ggtitle(paste0(\"K = \", k_min)) \n",
    "plot_grid(plaicraft_pred_testing_plot, plaicraft_pred_training_plot, ncol = 2, nrow = 1)\n",
    "\n",
    "plaicraft_pred_training_plot \n",
    "plaicraft_pred_testing_plot \n",
    "\n"
   ]
  },
  {
   "cell_type": "code",
   "execution_count": null,
   "id": "a883e6a4-d866-4e36-b41f-f10788b37571",
   "metadata": {},
   "outputs": [],
   "source": []
  },
  {
   "cell_type": "code",
   "execution_count": null,
   "id": "30d5cdd1-9a99-4527-82e7-241e749988cb",
   "metadata": {},
   "outputs": [],
   "source": [
    "\n",
    "set.seed(4000)\n",
    "\n",
    "ranked_hours <- plaicraft_pred_training |> \n",
    "  select(hour_of_day, .pred) |> \n",
    "  group_by(hour_of_day) |> \n",
    "  summarize(avg_predicted_players = mean(.pred), .groups = \"drop\") |> \n",
    "  arrange(desc(avg_predicted_players)) |> \n",
    "  slice_head(n = 5)\n",
    "ranked_hours\n"
   ]
  },
  {
   "cell_type": "code",
   "execution_count": null,
   "id": "b86d592d-1c1c-455e-bc67-80b7b5e861cc",
   "metadata": {},
   "outputs": [],
   "source": []
  }
 ],
 "metadata": {
  "kernelspec": {
   "display_name": "R",
   "language": "R",
   "name": "ir"
  },
  "language_info": {
   "codemirror_mode": "r",
   "file_extension": ".r",
   "mimetype": "text/x-r-source",
   "name": "R",
   "pygments_lexer": "r",
   "version": "4.3.3"
  }
 },
 "nbformat": 4,
 "nbformat_minor": 5
}
